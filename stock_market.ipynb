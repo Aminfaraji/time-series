{
  "nbformat": 4,
  "nbformat_minor": 0,
  "metadata": {
    "accelerator": "GPU",
    "colab": {
      "name": "stock_market.ipynb",
      "provenance": [],
      "mount_file_id": "1Tj8933k9ts1cXeLCukWRsMpqOlVxEZpx",
      "authorship_tag": "ABX9TyPEabIOVTHiKa41UvjnhPFX",
      "include_colab_link": true
    },
    "kernelspec": {
      "display_name": "Python 3",
      "name": "python3"
    }
  },
  "cells": [
    {
      "cell_type": "markdown",
      "metadata": {
        "id": "view-in-github",
        "colab_type": "text"
      },
      "source": [
        "<a href=\"https://colab.research.google.com/github/Aminfaraji/time-series/blob/main/stock_market.ipynb\" target=\"_parent\"><img src=\"https://colab.research.google.com/assets/colab-badge.svg\" alt=\"Open In Colab\"/></a>"
      ]
    },
    {
      "cell_type": "code",
      "metadata": {
        "id": "N9-nH8xjI31D"
      },
      "source": [
        "import pandas as pd\n",
        "import numpy as np\n",
        "import matplotlib.pyplot as plt\n",
        "import keras as K\n",
        "from sklearn.preprocessing import MinMaxScaler\n",
        "import tensorflow as tf\n",
        "from sklearn.model_selection import train_test_split\n",
        "gold=pd.read_csv(\"/content/drive/My Drive/Lotus.Gold.Com.ETF.csv\",usecols=['<HIGH>','<OPEN>'])\n",
        "gold[:]=gold.iloc[::-1].values"
      ],
      "execution_count": 32,
      "outputs": []
    },
    {
      "cell_type": "code",
      "metadata": {
        "id": "5gZ3P-ISNKbV",
        "colab": {
          "base_uri": "https://localhost:8080/",
          "height": 282
        },
        "outputId": "ce27761c-6720-4c1c-d969-4a413c9d2cef"
      },
      "source": [
        "plt.plot(gold[\"<OPEN>\"])"
      ],
      "execution_count": 33,
      "outputs": [
        {
          "output_type": "execute_result",
          "data": {
            "text/plain": [
              "[<matplotlib.lines.Line2D at 0x7f0ea47a9128>]"
            ]
          },
          "metadata": {
            "tags": []
          },
          "execution_count": 33
        },
        {
          "output_type": "display_data",
          "data": {
            "image/png": "[encoded data removed]",
            "text/plain": [
              "<Figure size 432x288 with 1 Axes>"
            ]
          },
          "metadata": {
            "tags": [],
            "needs_background": "light"
          }
        }
      ]
    },
    {
      "cell_type": "code",
      "metadata": {
        "id": "UDPBgBcPNpH2",
        "colab": {
          "base_uri": "https://localhost:8080/",
          "height": 282
        },
        "outputId": "92344699-39fa-4aec-bf84-a84c3d352b61"
      },
      "source": [
        "dataset=gold.filter([\"<OPEN>\"])\n",
        "data=dataset\n",
        "dataset=dataset.values\n",
        "normal=MinMaxScaler()\n",
        "dataset=normal.fit_transform(dataset)\n",
        "plt.plot(dataset)"
      ],
      "execution_count": 34,
      "outputs": [
        {
          "output_type": "execute_result",
          "data": {
            "text/plain": [
              "[<matplotlib.lines.Line2D at 0x7f0ea35c1668>]"
            ]
          },
          "metadata": {
            "tags": []
          },
          "execution_count": 34
        },
        {
          "output_type": "display_data",
          "data": {
            "image/png": "[encoded data removed]",
            "text/plain": [
              "<Figure size 432x288 with 1 Axes>"
            ]
          },
          "metadata": {
            "tags": [],
            "needs_background": "light"
          }
        }
      ]
    },
    {
      "cell_type": "code",
      "metadata": {
        "id": "kt_nrFrWHT9z"
      },
      "source": [
        "len_X_train=634\n",
        "X_train=dataset[0:len_X_train,:]\n",
        "X=[]\n",
        "Y=[]\n",
        "for i in range(30,len(X_train)):\n",
        "  X.append(X_train[i-30:i,0])\n",
        "  Y.append(X_train[i,0])\n",
        "X=np.array(X)\n",
        "Y=np.array(Y)\n",
        "X=X.reshape((len(X),30,1))"
      ],
      "execution_count": 35,
      "outputs": []
    },
    {
      "cell_type": "code",
      "metadata": {
        "id": "wqP95WxWKK0V"
      },
      "source": [
        "model=K.models.Sequential()\n",
        "model.add(K.layers.LSTM(50,return_sequences=True,input_shape=(X.shape[1],1)))\n",
        "model.add(K.layers.LSTM(50,return_sequences=True))\n",
        "model.add(K.layers.LSTM(50,return_sequences=1))\n",
        "model.add(K.layers.LSTM(50))\n",
        "model.add(K.layers.Dense(1))\n",
        "model.compile(loss=\"mean_squared_error\",optimizer=\"adam\")"
      ],
      "execution_count": 47,
      "outputs": []
    },
    {
      "cell_type": "code",
      "metadata": {
        "id": "EMIAmG3sL3R4",
        "colab": {
          "base_uri": "https://localhost:8080/"
        },
        "outputId": "cc38da5f-45c7-4a18-9413-db465a9e2c4a"
      },
      "source": [
        "model.fit(X,Y,epochs=100,batch_size=32)"
      ],
      "execution_count": 48,
      "outputs": [
        {
          "output_type": "stream",
          "text": [
            "Epoch 1/100\n",
            "19/19 [==============================] - 0s 11ms/step - loss: 0.0052\n",
            "Epoch 2/100\n",
            "19/19 [==============================] - 0s 10ms/step - loss: 6.3871e-04\n",
            "Epoch 3/100\n",
            "19/19 [==============================] - 0s 9ms/step - loss: 4.3910e-04\n",
            "Epoch 4/100\n",
            "19/19 [==============================] - 0s 9ms/step - loss: 4.1654e-04\n",
            "Epoch 5/100\n",
            "19/19 [==============================] - 0s 10ms/step - loss: 4.3011e-04\n",
            "Epoch 6/100\n",
            "19/19 [==============================] - 0s 10ms/step - loss: 4.0513e-04\n",
            "Epoch 7/100\n",
            "19/19 [==============================] - 0s 10ms/step - loss: 3.7213e-04\n",
            "Epoch 8/100\n",
            "19/19 [==============================] - 0s 9ms/step - loss: 3.5273e-04\n",
            "Epoch 9/100\n",
            "19/19 [==============================] - 0s 9ms/step - loss: 3.3872e-04\n",
            "Epoch 10/100\n",
            "19/19 [==============================] - 0s 10ms/step - loss: 3.3183e-04\n",
            "Epoch 11/100\n",
            "19/19 [==============================] - 0s 9ms/step - loss: 3.1710e-04\n",
            "Epoch 12/100\n",
            "19/19 [==============================] - 0s 10ms/step - loss: 3.1280e-04\n",
            "Epoch 13/100\n",
            "19/19 [==============================] - 0s 9ms/step - loss: 3.3401e-04\n",
            "Epoch 14/100\n",
            "19/19 [==============================] - 0s 10ms/step - loss: 2.6188e-04\n",
            "Epoch 15/100\n",
            "19/19 [==============================] - 0s 10ms/step - loss: 2.6517e-04\n",
            "Epoch 16/100\n",
            "19/19 [==============================] - 0s 10ms/step - loss: 2.6883e-04\n",
            "Epoch 17/100\n",
            "19/19 [==============================] - 0s 9ms/step - loss: 2.6584e-04\n",
            "Epoch 18/100\n",
            "19/19 [==============================] - 0s 10ms/step - loss: 3.3012e-04\n",
            "Epoch 19/100\n",
            "19/19 [==============================] - 0s 10ms/step - loss: 2.3926e-04\n",
            "Epoch 20/100\n",
            "19/19 [==============================] - 0s 10ms/step - loss: 2.6390e-04\n",
            "Epoch 21/100\n",
            "19/19 [==============================] - 0s 10ms/step - loss: 2.2228e-04\n",
            "Epoch 22/100\n",
            "19/19 [==============================] - 0s 9ms/step - loss: 2.2397e-04\n",
            "Epoch 23/100\n",
            "19/19 [==============================] - 0s 10ms/step - loss: 2.1336e-04\n",
            "Epoch 24/100\n",
            "19/19 [==============================] - 0s 9ms/step - loss: 2.1482e-04\n",
            "Epoch 25/100\n",
            "19/19 [==============================] - 0s 10ms/step - loss: 2.5831e-04\n",
            "Epoch 26/100\n",
            "19/19 [==============================] - 0s 10ms/step - loss: 2.3511e-04\n",
            "Epoch 27/100\n",
            "19/19 [==============================] - 0s 10ms/step - loss: 2.0228e-04\n",
            "Epoch 28/100\n",
            "19/19 [==============================] - 0s 10ms/step - loss: 2.1328e-04\n",
            "Epoch 29/100\n",
            "19/19 [==============================] - 0s 10ms/step - loss: 2.0454e-04\n",
            "Epoch 30/100\n",
            "19/19 [==============================] - 0s 10ms/step - loss: 1.9564e-04\n",
            "Epoch 31/100\n",
            "19/19 [==============================] - 0s 10ms/step - loss: 2.1567e-04\n",
            "Epoch 32/100\n",
            "19/19 [==============================] - 0s 9ms/step - loss: 2.0709e-04\n",
            "Epoch 33/100\n",
            "19/19 [==============================] - 0s 10ms/step - loss: 2.0243e-04\n",
            "Epoch 34/100\n",
            "19/19 [==============================] - 0s 10ms/step - loss: 1.9381e-04\n",
            "Epoch 35/100\n",
            "19/19 [==============================] - 0s 10ms/step - loss: 1.9224e-04\n",
            "Epoch 36/100\n",
            "19/19 [==============================] - 0s 10ms/step - loss: 2.3489e-04\n",
            "Epoch 37/100\n",
            "19/19 [==============================] - 0s 10ms/step - loss: 2.1319e-04\n",
            "Epoch 38/100\n",
            "19/19 [==============================] - 0s 10ms/step - loss: 2.1967e-04\n",
            "Epoch 39/100\n",
            "19/19 [==============================] - 0s 10ms/step - loss: 1.8721e-04\n",
            "Epoch 40/100\n",
            "19/19 [==============================] - 0s 9ms/step - loss: 1.7701e-04\n",
            "Epoch 41/100\n",
            "19/19 [==============================] - 0s 10ms/step - loss: 1.7929e-04\n",
            "Epoch 42/100\n",
            "19/19 [==============================] - 0s 10ms/step - loss: 2.2895e-04\n",
            "Epoch 43/100\n",
            "19/19 [==============================] - 0s 10ms/step - loss: 2.1227e-04\n",
            "Epoch 44/100\n",
            "19/19 [==============================] - 0s 10ms/step - loss: 1.8105e-04\n",
            "Epoch 45/100\n",
            "19/19 [==============================] - 0s 10ms/step - loss: 1.7363e-04\n",
            "Epoch 46/100\n",
            "19/19 [==============================] - 0s 10ms/step - loss: 1.6994e-04\n",
            "Epoch 47/100\n",
            "19/19 [==============================] - 0s 10ms/step - loss: 1.6383e-04\n",
            "Epoch 48/100\n",
            "19/19 [==============================] - 0s 9ms/step - loss: 1.7149e-04\n",
            "Epoch 49/100\n",
            "19/19 [==============================] - 0s 9ms/step - loss: 1.6964e-04\n",
            "Epoch 50/100\n",
            "19/19 [==============================] - 0s 9ms/step - loss: 1.8444e-04\n",
            "Epoch 51/100\n",
            "19/19 [==============================] - 0s 10ms/step - loss: 1.6017e-04\n",
            "Epoch 52/100\n",
            "19/19 [==============================] - 0s 9ms/step - loss: 1.5431e-04\n",
            "Epoch 53/100\n",
            "19/19 [==============================] - 0s 9ms/step - loss: 1.6196e-04\n",
            "Epoch 54/100\n",
            "19/19 [==============================] - 0s 10ms/step - loss: 1.5160e-04\n",
            "Epoch 55/100\n",
            "19/19 [==============================] - 0s 9ms/step - loss: 1.4719e-04\n",
            "Epoch 56/100\n",
            "19/19 [==============================] - 0s 10ms/step - loss: 1.4133e-04\n",
            "Epoch 57/100\n",
            "19/19 [==============================] - 0s 10ms/step - loss: 1.5825e-04\n",
            "Epoch 58/100\n",
            "19/19 [==============================] - 0s 9ms/step - loss: 1.5145e-04\n",
            "Epoch 59/100\n",
            "19/19 [==============================] - 0s 10ms/step - loss: 1.3823e-04\n",
            "Epoch 60/100\n",
            "19/19 [==============================] - 0s 9ms/step - loss: 2.1768e-04\n",
            "Epoch 61/100\n",
            "19/19 [==============================] - 0s 10ms/step - loss: 2.3125e-04\n",
            "Epoch 62/100\n",
            "19/19 [==============================] - 0s 9ms/step - loss: 1.4652e-04\n",
            "Epoch 63/100\n",
            "19/19 [==============================] - 0s 10ms/step - loss: 1.2672e-04\n",
            "Epoch 64/100\n",
            "19/19 [==============================] - 0s 10ms/step - loss: 1.3832e-04\n",
            "Epoch 65/100\n",
            "19/19 [==============================] - 0s 10ms/step - loss: 1.3238e-04\n",
            "Epoch 66/100\n",
            "19/19 [==============================] - 0s 11ms/step - loss: 1.3151e-04\n",
            "Epoch 67/100\n",
            "19/19 [==============================] - 0s 9ms/step - loss: 1.5102e-04\n",
            "Epoch 68/100\n",
            "19/19 [==============================] - 0s 10ms/step - loss: 1.3550e-04\n",
            "Epoch 69/100\n",
            "19/19 [==============================] - 0s 9ms/step - loss: 1.3548e-04\n",
            "Epoch 70/100\n",
            "19/19 [==============================] - 0s 10ms/step - loss: 1.3379e-04\n",
            "Epoch 71/100\n",
            "19/19 [==============================] - 0s 10ms/step - loss: 1.1964e-04\n",
            "Epoch 72/100\n",
            "19/19 [==============================] - 0s 10ms/step - loss: 1.1387e-04\n",
            "Epoch 73/100\n",
            "19/19 [==============================] - 0s 10ms/step - loss: 1.2691e-04\n",
            "Epoch 74/100\n",
            "19/19 [==============================] - 0s 9ms/step - loss: 1.0191e-04\n",
            "Epoch 75/100\n",
            "19/19 [==============================] - 0s 10ms/step - loss: 1.0142e-04\n",
            "Epoch 76/100\n",
            "19/19 [==============================] - 0s 10ms/step - loss: 1.0377e-04\n",
            "Epoch 77/100\n",
            "19/19 [==============================] - 0s 10ms/step - loss: 1.2791e-04\n",
            "Epoch 78/100\n",
            "19/19 [==============================] - 0s 10ms/step - loss: 1.0393e-04\n",
            "Epoch 79/100\n",
            "19/19 [==============================] - 0s 10ms/step - loss: 1.0695e-04\n",
            "Epoch 80/100\n",
            "19/19 [==============================] - 0s 10ms/step - loss: 1.0353e-04\n",
            "Epoch 81/100\n",
            "19/19 [==============================] - 0s 10ms/step - loss: 1.0472e-04\n",
            "Epoch 82/100\n",
            "19/19 [==============================] - 0s 10ms/step - loss: 1.2390e-04\n",
            "Epoch 83/100\n",
            "19/19 [==============================] - 0s 10ms/step - loss: 1.1456e-04\n",
            "Epoch 84/100\n",
            "19/19 [==============================] - 0s 10ms/step - loss: 9.4091e-05\n",
            "Epoch 85/100\n",
            "19/19 [==============================] - 0s 10ms/step - loss: 8.7905e-05\n",
            "Epoch 86/100\n",
            "19/19 [==============================] - 0s 10ms/step - loss: 9.3187e-05\n",
            "Epoch 87/100\n",
            "19/19 [==============================] - 0s 10ms/step - loss: 8.9813e-05\n",
            "Epoch 88/100\n",
            "19/19 [==============================] - 0s 10ms/step - loss: 8.2739e-05\n",
            "Epoch 89/100\n",
            "19/19 [==============================] - 0s 10ms/step - loss: 8.5526e-05\n",
            "Epoch 90/100\n",
            "19/19 [==============================] - 0s 9ms/step - loss: 8.8957e-05\n",
            "Epoch 91/100\n",
            "19/19 [==============================] - 0s 10ms/step - loss: 8.4938e-05\n",
            "Epoch 92/100\n",
            "19/19 [==============================] - 0s 10ms/step - loss: 9.1383e-05\n",
            "Epoch 93/100\n",
            "19/19 [==============================] - 0s 10ms/step - loss: 1.1367e-04\n",
            "Epoch 94/100\n",
            "19/19 [==============================] - 0s 9ms/step - loss: 1.1333e-04\n",
            "Epoch 95/100\n",
            "19/19 [==============================] - 0s 10ms/step - loss: 9.2621e-05\n",
            "Epoch 96/100\n",
            "19/19 [==============================] - 0s 10ms/step - loss: 8.6430e-05\n",
            "Epoch 97/100\n",
            "19/19 [==============================] - 0s 10ms/step - loss: 7.2627e-05\n",
            "Epoch 98/100\n",
            "19/19 [==============================] - 0s 10ms/step - loss: 6.6925e-05\n",
            "Epoch 99/100\n",
            "19/19 [==============================] - 0s 11ms/step - loss: 6.6491e-05\n",
            "Epoch 100/100\n",
            "19/19 [==============================] - 0s 10ms/step - loss: 6.4463e-05\n"
          ],
          "name": "stdout"
        },
        {
          "output_type": "execute_result",
          "data": {
            "text/plain": [
              "<tensorflow.python.keras.callbacks.History at 0x7f0ea21e7f28>"
            ]
          },
          "metadata": {
            "tags": []
          },
          "execution_count": 48
        }
      ]
    },
    {
      "cell_type": "code",
      "metadata": {
        "id": "kXWzCqs7M_iD"
      },
      "source": [
        "test_data=dataset[len_X_train-30:,:]# be scale\n",
        "x=[]\n",
        "y=gold.iloc[len_X_train:,1]# not scale \n",
        "for i in range(30,len(test_data)):\n",
        "  x.append(test_data[i-30:i,0])\n",
        "x=np.array(x)\n",
        "x=x.reshape((len(x),30,1))"
      ],
      "execution_count": 49,
      "outputs": []
    },
    {
      "cell_type": "code",
      "metadata": {
        "id": "mvNXKXULQx7n"
      },
      "source": [
        "pred=model.predict(x)\n",
        "pred=normal.inverse_transform(pred)"
      ],
      "execution_count": 50,
      "outputs": []
    },
    {
      "cell_type": "code",
      "metadata": {
        "id": "Uj8t-K_oS6zq",
        "colab": {
          "base_uri": "https://localhost:8080/",
          "height": 424
        },
        "outputId": "e51a09e1-8b84-40bb-adc8-3a8e4505cd2d"
      },
      "source": [
        "train=data[:len_X_train]\n",
        "valid=data[len_X_train:]\n",
        "valid[\"pred\"]=pred\n",
        "plt.plot(train[\"<OPEN>\"])\n",
        "plt.plot(valid[[\"<OPEN>\",\"pred\"]])"
      ],
      "execution_count": 51,
      "outputs": [
        {
          "output_type": "stream",
          "text": [
            "/usr/local/lib/python3.6/dist-packages/ipykernel_launcher.py:3: SettingWithCopyWarning: \n",
            "A value is trying to be set on a copy of a slice from a DataFrame.\n",
            "Try using .loc[row_indexer,col_indexer] = value instead\n",
            "\n",
            "See the caveats in the documentation: https://pandas.pydata.org/pandas-docs/stable/user_guide/indexing.html#returning-a-view-versus-a-copy\n",
            "  This is separate from the ipykernel package so we can avoid doing imports until\n"
          ],
          "name": "stderr"
        },
        {
          "output_type": "execute_result",
          "data": {
            "text/plain": [
              "[<matplotlib.lines.Line2D at 0x7f0eb9cba518>,\n",
              " <matplotlib.lines.Line2D at 0x7f0eb9cba668>]"
            ]
          },
          "metadata": {
            "tags": []
          },
          "execution_count": 51
        },
        {
          "output_type": "display_data",
          "data": {
            "image/png": "[encoded data removed]",
            "text/plain": [
              "<Figure size 432x288 with 1 Axes>"
            ]
          },
          "metadata": {
            "tags": [],
            "needs_background": "light"
          }
        }
      ]
    },
    {
      "cell_type": "code",
      "metadata": {
        "id": "nd5pn5nQ2Q8G"
      },
      "source": [
        "# result=np.array([0.0]*230).reshape((230,1))\n",
        "# result[0:30]=x[-1]\n",
        "# for i in range(200):\n",
        "#   pred=model.predict(result[i:i+30].reshape((1,30,1)))\n",
        "#   result[i+30]=pred\n"
      ],
      "execution_count": 52,
      "outputs": []
    },
    {
      "cell_type": "code",
      "metadata": {
        "id": "ME8fYgj_5iNP"
      },
      "source": [
        "# result_re=normal.inverse_transform(result)\n",
        "# data=pd.concat([data[\"<OPEN>\"],pd.DataFrame(result_re)],ignore_index=True)\n",
        "# plt.plot(data)\n",
        "# plt.plot(gold[\"<OPEN>\"])"
      ],
      "execution_count": 54,
      "outputs": []
    },
    {
      "cell_type": "code",
      "metadata": {
        "id": "pdQbUJl50Vxl"
      },
      "source": [
        ""
      ],
      "execution_count": null,
      "outputs": []
    }
  ]
}